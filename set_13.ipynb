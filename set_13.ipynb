{
  "nbformat": 4,
  "nbformat_minor": 0,
  "metadata": {
    "colab": {
      "name": "set-13.ipynb",
      "provenance": [],
      "private_outputs": true,
      "collapsed_sections": [],
      "include_colab_link": true
    },
    "kernelspec": {
      "name": "python3",
      "display_name": "Python 3"
    }
  },
  "cells": [
    {
      "cell_type": "markdown",
      "metadata": {
        "id": "view-in-github",
        "colab_type": "text"
      },
      "source": [
        "<a href=\"https://colab.research.google.com/github/DarshanPatel0919/Computational-Numerical-Methods/blob/main/set_13.ipynb\" target=\"_parent\"><img src=\"https://colab.research.google.com/assets/colab-badge.svg\" alt=\"Open In Colab\"/></a>"
      ]
    },
    {
      "cell_type": "code",
      "metadata": {
        "id": "poOmqYrOJ6IG"
      },
      "source": [
        "import numpy as np\n",
        "import pylab as plt\n",
        "import six\n",
        "import pandas as pd\n",
        "\n",
        "def render_mpl_table(data, col_width=3.0, row_height=0.625, font_size=14,\n",
        "                     header_color='#40466e', row_colors=['#f1f1f2', 'w'], edge_color='w',\n",
        "                     bbox=[0, 0, 1, 1], header_columns=0,\n",
        "                     ax=None, **kwargs):\n",
        "    if ax is None:\n",
        "        size = (np.array(data.shape[::-1]) + np.array([0, 1])) * np.array([col_width, row_height])\n",
        "        fig, ax = plt.subplots(figsize=size)\n",
        "        ax.axis('off')\n",
        "\n",
        "    mpl_table = ax.table(cellText=data.values, bbox=bbox, colLabels=data.columns, **kwargs)\n",
        "\n",
        "    mpl_table.auto_set_font_size(False)\n",
        "    mpl_table.set_fontsize(font_size)\n",
        "\n",
        "    for k, cell in six.iteritems(mpl_table._cells):\n",
        "        cell.set_edgecolor(edge_color)\n",
        "        if k[0] == 0 or k[1] < header_columns:\n",
        "            cell.set_text_props(weight='bold', color='w')\n",
        "            cell.set_facecolor(header_color)\n",
        "        else:\n",
        "            cell.set_facecolor(row_colors[k[0]%len(row_colors) ])\n",
        "            \n",
        "            \n",
        "        #if k[0] == len(data):\n",
        "        #    cell.set_facecolor('y')\n",
        "    \n",
        "    return ax\n",
        "\n",
        "\n",
        "h=np.array([0.1,0.05,0.02,0.01,0.001])\n",
        "l=-100\n",
        "x=0.2\n",
        "act=np.exp(l*x)\n",
        "y=(1+l*h)**(x/h)\n",
        "y2=(1-l*h)**(-x/h)\n",
        "e1=y-act\n",
        "e2=y2-act\n",
        "prec=\"0.12f\"\n",
        "\n",
        "matrix=[]\n",
        "for i in range(len(h)):\n",
        "  matrix.append([ h[i],-x/h[i],format(y[i],prec),format(e1[i],prec),format(y2[i],prec) ,format(e2[i],prec)])\n",
        "\n",
        "\n",
        "\n",
        "names = ['h','n','Euler','Euler Error','Backward Euler','Backward Euler Error']\n",
        "df = pd.DataFrame(np.array(matrix),columns=names)\n",
        "render_mpl_table(df, header_columns=0, col_width=3.06) \n",
        "\n",
        "print('Actual value =',format(act,prec))"
      ],
      "execution_count": null,
      "outputs": []
    },
    {
      "cell_type": "code",
      "metadata": {
        "id": "OAEHLNMSRclo"
      },
      "source": [
        "###########################            SET-14              ###########################################"
      ],
      "execution_count": null,
      "outputs": []
    },
    {
      "cell_type": "code",
      "metadata": {
        "id": "HX4qd7eyRStw"
      },
      "source": [
        "import numpy as np\n",
        "import pylab as plt\n",
        "import six\n",
        "import pandas as pd\n",
        "\n",
        "def f(x,y):\n",
        "  return -y\n",
        "\n",
        "H=[0.2,0.1,0.05]\n",
        "\n",
        "for h in H:\n",
        "  yt=[1]\n",
        "  yh=[1]\n",
        "  ye=[1]\n",
        "  l=int(6/h)+1\n",
        "  x=np.linspace(0,6,l)\n",
        "  y=np.exp(-x)\n",
        "  for i in range(1,len(x)):\n",
        "    yt.append(yt[i-1]*(2-h)/(2+h))\n",
        "    yh.append(yh[i-1] + (h/2)*(f(x[i-1],yh[i-1]) + f(x[i],yh[i-1]+h*f(x[i-1],yh[i-1]))))\n",
        "    ye.append(ye[i-1] + h*f(x[i-1],ye[i-1]))\n",
        "  yt=np.array(yt)\n",
        "  yh=np.array(yh)\n",
        "  ye=np.array(ye)\n",
        "  plt.plot(x,y,label='y')\n",
        "  plt.plot(x,yt,'bo',label='y_trape',mfc='none')\n",
        "  plt.plot(x,yh,'r+',label='y_huen')\n",
        "  plt.plot(x,ye,'y--',label='y_euler')\n",
        "  plt.legend(loc='best')\n",
        "  plt.show()\n",
        "  plt.plot(x,np.absolute(yt-y),'b',label='y_trape',mfc='none')\n",
        "  plt.plot(x,np.absolute(yh-y),'r',label='y_huen')\n",
        "  plt.plot(x,np.absolute(ye-y),'y',label='y_euler')\n",
        "  plt.legend(loc='best')\n",
        "  plt.show()"
      ],
      "execution_count": null,
      "outputs": []
    },
    {
      "cell_type": "code",
      "metadata": {
        "id": "iBglLNCNYGik"
      },
      "source": [
        "import numpy as np\n",
        "import pylab as plt\n",
        "import six\n",
        "import pandas as pd\n",
        "\n",
        "def f(x,y):\n",
        "  return (y+x**2-2)/(1+x)\n",
        "\n",
        "H=[0.2,0.1,0.05]\n",
        "init=2\n",
        "\n",
        "for h in H:\n",
        "  yt=[init]\n",
        "  yh=[init]\n",
        "  ye=[init]\n",
        "  l=int(6/h)+1\n",
        "  x=np.linspace(0,6,l)\n",
        "  y=x**2+2*x+2-2*(x+1)*np.log(x+1)\n",
        "  for i in range(1,len(x)):\n",
        "    yt.append((yt[i-1]+ h*(yt[i-1] + x[i-1]**2 + x[i]**2 - 4)/(2*(1+x[i-1])))/(1 - (h/(2*(1+x[i])))))\n",
        "    yh.append(yh[i-1] + (h/2)*(f(x[i-1],yh[i-1]) + f(x[i],yh[i-1]+h*f(x[i-1],yh[i-1]))))\n",
        "    ye.append(ye[i-1] + h*f(x[i-1],ye[i-1]))\n",
        "  yt=np.array(yt)\n",
        "  yh=np.array(yh)\n",
        "  ye=np.array(ye)\n",
        "  plt.plot(x,y,label='y')\n",
        "  \n",
        "  plt.plot(x,yt,'bo',label='y_trape',mfc='none')\n",
        "  plt.plot(x,yh,'r+',label='y_huen')\n",
        "  plt.plot(x,ye,'y--',label='y_euler')\n",
        "  plt.legend(loc='best')\n",
        "  plt.show()\n",
        "  plt.plot(x,np.absolute(yt-y),'b',label='y_trape',mfc='none')\n",
        "  plt.plot(x,np.absolute(yh-y),'r',label='y_huen')\n",
        "  plt.plot(x,np.absolute(ye-y),'y-',label='y_euler')\n",
        "  plt.legend(loc='best')\n",
        "  plt.show()"
      ],
      "execution_count": null,
      "outputs": []
    },
    {
      "cell_type": "code",
      "metadata": {
        "id": "kXCrusRQaXkW"
      },
      "source": [
        "###########################            SET-15              ###########################################"
      ],
      "execution_count": null,
      "outputs": []
    },
    {
      "cell_type": "code",
      "metadata": {
        "id": "Zf_V0dpZabpG"
      },
      "source": [
        "import numpy as np\n",
        "import pylab as plt\n",
        "import six\n",
        "import pandas as pd\n",
        "\n",
        "def f(x,y):\n",
        "  return -y + 2*np.cos(x)\n",
        "\n",
        "H=[0.1,0.05]\n",
        "init=1\n",
        "\n",
        "for h in H:\n",
        "  yt=[init]\n",
        "  ye=[init]\n",
        "  l=int(10/h)+1\n",
        "  x=np.linspace(0,10,l)\n",
        "  y=np.sin(x)+np.cos(x)\n",
        "  for i in range(1,len(x)):\n",
        "    yt.append(yt[i-1] + h*f(x[i-1],yt[i-1]) + ((h**2)/2)*(-f(x[i-1],yt[i-1]) -2*np.sin(x[i-1])))\n",
        "    ye.append(ye[i-1] + h*f(x[i-1],ye[i-1]))\n",
        "  yt=np.array(yt)\n",
        "  ye=np.array(ye)\n",
        "  plt.plot(x,y,label='y')\n",
        "  plt.plot(x,yt,'yo',label='t_second',mfc='none')\n",
        "  plt.plot(x,ye,'r+',label='t_first')\n",
        "  plt.legend(loc='best')\n",
        "  plt.show()\n",
        "  plt.plot(x,np.absolute(yt-y),'y',label='t_second',mfc='none')\n",
        "  plt.plot(x,np.absolute(ye-y),'r',label='t_first')\n",
        "  plt.legend(loc='best')\n",
        "  plt.show()"
      ],
      "execution_count": null,
      "outputs": []
    },
    {
      "cell_type": "code",
      "metadata": {
        "id": "FInRKdo2dP9g"
      },
      "source": [
        "###########################            SET-16              ###########################################"
      ],
      "execution_count": null,
      "outputs": []
    },
    {
      "cell_type": "code",
      "metadata": {
        "id": "xS9vE-IwdSQY"
      },
      "source": [
        "import numpy as np\n",
        "import pylab as plt\n",
        "import six\n",
        "import pandas as pd\n",
        "\n",
        "def f1(x,y1,y2):\n",
        "  return -y+2*np.cos(x)\n",
        "def f2(x,y1,y2):\n",
        "\n",
        "\n",
        "\n",
        "H=[0.01,0.005]\n",
        "init=1\n",
        "\n",
        "for h in H:\n",
        "  yh=[init]\n",
        "  ye=[init]\n",
        "  l=int(10/h)+1\n",
        "  x=np.linspace(0,10,l)\n",
        "  y=np.sin(x)+np.cos(x)\n",
        "  for i in range(1,len(x)):\n",
        "    yh.append(yh[i-1] + (h/2)*(f(x[i-1],yh[i-1]) + f(x[i],yh[i-1]+h*f(x[i-1],yh[i-1]))))\n",
        "    v1=f(x[i-1],y[i-1])\n",
        "    v2=f(x[i-1]+h/2,y[i-1]+h*v1/2)\n",
        "    v3=f(x[i-1]+h/2,y[i-1]+h*v2/2)\n",
        "    v4=f(x[i-1]+h,y[i-1]+h*v3)\n",
        "    ye.append(ye[i-1] + (h/6)*(v1+2*(v2+v3)+v4))\n",
        "  yh=np.array(yh)\n",
        "  ye=np.array(ye)\n",
        "  plt.plot(x,y,label='y')\n",
        "  plt.plot(x,yh,'y+',label='rk_second')\n",
        "  plt.plot(x,ye,'ro',label='rk_fourth',mfc='none')\n",
        "  plt.legend(loc='best')\n",
        "  plt.show()\n",
        "  plt.plot(x,np.absolute(yh-y),'y',label='rk_second')\n",
        "  plt.plot(x,np.absolute(ye-y),'r',label='rk_fourth',mfc='none')\n",
        "  plt.legend(loc='upper right')\n",
        "  plt.show()"
      ],
      "execution_count": null,
      "outputs": []
    },
    {
      "cell_type": "code",
      "metadata": {
        "id": "lk0suWkVf89g"
      },
      "source": [
        "import numpy as np\n",
        "import pylab as plt\n",
        "import six\n",
        "import pandas as pd\n",
        "\n",
        "def f(x,y):\n",
        "  return -y + ((x)**(0.1))*(1.1+x)\n",
        "\n",
        "H=[0.1,0.05,0.025,0.0125,0.00625]\n",
        "init=0\n",
        "\n",
        "for h in H:\n",
        "  yh=[init]\n",
        "  ye=[init]\n",
        "  l=int(5/h)+1\n",
        "  x=np.linspace(0,5,l)\n",
        "  y=x**(1.1)\n",
        "  for i in range(1,len(x)):\n",
        "    yh.append(yh[i-1] + (h/2)*(f(x[i-1],yh[i-1]) + f(x[i],yh[i-1]+h*f(x[i-1],yh[i-1]))))\n",
        "    v1=f(x[i-1],ye[i-1])\n",
        "    v2=f(x[i-1]+h/2,ye[i-1]+h*v1/2)\n",
        "    v3=f(x[i-1]+h/2,ye[i-1]+h*v2/2)\n",
        "    v4=f(x[i-1]+h,ye[i-1]+h*v3)\n",
        "    ye.append(ye[i-1] + (h/6)*(v1+2*(v2+v3)+v4))\n",
        "  yh=np.array(yh)\n",
        "  ye=np.array(ye)\n",
        "  plt.plot(x,y,label='y')\n",
        "  plt.plot(x,yh,'y+',label='rk_second')\n",
        "  plt.plot(x,ye,'r--',label='rk_fourth',mfc='none')\n",
        "  plt.legend(loc='best')\n",
        "  plt.show()\n",
        "  plt.plot(x,np.absolute(yh-y),'y',label='rk_second')\n",
        "  plt.plot(x,np.absolute(ye-y),'r',label='rk_fourth',mfc='none')\n",
        "  plt.legend(loc='best')\n",
        "  plt.show()"
      ],
      "execution_count": null,
      "outputs": []
    }
  ]
}